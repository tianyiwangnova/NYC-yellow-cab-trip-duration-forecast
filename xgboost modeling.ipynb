{
 "cells": [
  {
   "cell_type": "markdown",
   "metadata": {},
   "source": [
    "#### This is a private Kernel I did on Kaggle because I'd like to utilize their website to do the parameter tuning insteading of running it on my capacity-limited laptop. I first did a basic parameter grid search in R to get an idea of what combinations of parameters might generate low rsme."
   ]
  },
  {
   "cell_type": "code",
   "execution_count": 2,
   "metadata": {
    "_cell_guid": "d0571760-2d6b-4445-8485-737a756c1a9f",
    "_uuid": "1e6512ee3581a05c7962804593b7c955e002efbc",
    "collapsed": false
   },
   "outputs": [
    {
     "name": "stderr",
     "output_type": "stream",
     "text": [
      "/opt/conda/lib/python3.6/site-packages/sklearn/cross_validation.py:41: DeprecationWarning: This module was deprecated in version 0.18 in favor of the model_selection module into which all the refactored classes and functions are moved. Also note that the interface of the new CV iterators are different from that of this module. This module will be removed in 0.20.\n",
      "  \"This module will be removed in 0.20.\", DeprecationWarning)\n",
      "/opt/conda/lib/python3.6/site-packages/sklearn/grid_search.py:42: DeprecationWarning: This module was deprecated in version 0.18 in favor of the model_selection module into which all the refactored classes and functions are moved. This module will be removed in 0.20.\n",
      "  DeprecationWarning)\n"
     ]
    }
   ],
   "source": [
    "import pandas as pd\n",
    "import numpy as np\n",
    "import xgboost as xgb\n",
    "from xgboost.sklearn import XGBClassifier\n",
    "from sklearn import cross_validation, metrics   #Additional scklearn functions\n",
    "from sklearn.grid_search import GridSearchCV   #Perforing grid search\n",
    "\n",
    "import matplotlib.pylab as plt\n",
    "%matplotlib inline\n",
    "from matplotlib.pylab import rcParams\n",
    "rcParams['figure.figsize'] = 12, 4\n",
    "\n",
    "train = pd.read_csv('../input/tianyi-datasets/ultimate data set 8.csv')\n",
    "\n",
    "train=train.iloc[0:1458640,:]\n",
    "train.columns[71]\n",
    "predictors = [x for x in train.columns if x not in ['X.1', 'X', 'id','trip_duration']]\n",
    "xtrain=train[predictors]\n",
    "ytrain=train.iloc[:,71]\n",
    "Xtr=xtrain[1:1166911]\n",
    "ytr=np.log(ytrain[1:1166911])\n",
    "Xv=xtrain[1166911:1458639]\n",
    "yv=np.log(ytrain[1166911:1458639])\n",
    "dtrain = xgb.DMatrix(Xtr, label=ytr)\n",
    "dvalid = xgb.DMatrix(Xv, label=yv)\n",
    "watchlist = [(dtrain, 'train'), (dvalid, 'valid')]"
   ]
  },
  {
   "cell_type": "code",
   "execution_count": null,
   "metadata": {
    "_cell_guid": "8bc986f2-f04c-4607-8cc4-04fed2c7e44c",
    "_uuid": "f38bd83dec7b77c62d3edc572b01b5f9c710108d",
    "collapsed": false
   },
   "outputs": [
    {
     "name": "stdout",
     "output_type": "stream",
     "text": [
      "[0]\ttrain-rmse:5.71837\tvalid-rmse:5.72002\n",
      "Multiple eval metrics have been passed: 'valid-rmse' will be used for early stopping.\n",
      "\n",
      "Will train until valid-rmse hasn't improved in 50 rounds.\n",
      "[50]\ttrain-rmse:0.593661\tvalid-rmse:0.601066\n",
      "[100]\ttrain-rmse:0.378794\tvalid-rmse:0.397448\n",
      "[150]\ttrain-rmse:0.364125\tvalid-rmse:0.390799\n",
      "[200]\ttrain-rmse:0.35571\tvalid-rmse:0.388021\n",
      "[250]\ttrain-rmse:0.349579\tvalid-rmse:0.386405\n",
      "[300]\ttrain-rmse:0.34432\tvalid-rmse:0.385313\n",
      "[350]\ttrain-rmse:0.340049\tvalid-rmse:0.384389\n",
      "[400]\ttrain-rmse:0.336497\tvalid-rmse:0.383677\n",
      "[450]\ttrain-rmse:0.333035\tvalid-rmse:0.383106\n",
      "[500]\ttrain-rmse:0.329972\tvalid-rmse:0.382647\n",
      "[550]\ttrain-rmse:0.326806\tvalid-rmse:0.382123\n",
      "[600]\ttrain-rmse:0.324191\tvalid-rmse:0.381823\n",
      "[650]\ttrain-rmse:0.321475\tvalid-rmse:0.3815\n",
      "[700]\ttrain-rmse:0.319236\tvalid-rmse:0.381336\n",
      "[750]\ttrain-rmse:0.31675\tvalid-rmse:0.38103\n",
      "[800]\ttrain-rmse:0.314736\tvalid-rmse:0.380857\n",
      "[850]\ttrain-rmse:0.312593\tvalid-rmse:0.380695\n",
      "[900]\ttrain-rmse:0.310423\tvalid-rmse:0.380417\n",
      "[950]\ttrain-rmse:0.308148\tvalid-rmse:0.380152\n",
      "[1000]\ttrain-rmse:0.30597\tvalid-rmse:0.379918\n",
      "[1050]\ttrain-rmse:0.303843\tvalid-rmse:0.37968\n",
      "[1100]\ttrain-rmse:0.30215\tvalid-rmse:0.379557\n",
      "[1150]\ttrain-rmse:0.300291\tvalid-rmse:0.379427\n",
      "[1200]\ttrain-rmse:0.29866\tvalid-rmse:0.37932\n",
      "[1250]\ttrain-rmse:0.296903\tvalid-rmse:0.379209\n",
      "[1300]\ttrain-rmse:0.295213\tvalid-rmse:0.379083\n",
      "[1350]\ttrain-rmse:0.293427\tvalid-rmse:0.378906\n",
      "[1400]\ttrain-rmse:0.291815\tvalid-rmse:0.378749\n",
      "[1450]\ttrain-rmse:0.29021\tvalid-rmse:0.37866\n",
      "[1500]\ttrain-rmse:0.288628\tvalid-rmse:0.378559\n",
      "[1550]\ttrain-rmse:0.287026\tvalid-rmse:0.378441\n",
      "[1600]\ttrain-rmse:0.285617\tvalid-rmse:0.378369\n",
      "[1650]\ttrain-rmse:0.284204\tvalid-rmse:0.37827\n",
      "[1700]\ttrain-rmse:0.282606\tvalid-rmse:0.378199\n",
      "[1850]\ttrain-rmse:0.278319\tvalid-rmse:0.378007\n",
      "[1900]\ttrain-rmse:0.276872\tvalid-rmse:0.377924\n",
      "[1950]\ttrain-rmse:0.275709\tvalid-rmse:0.377894\n",
      "[2000]\ttrain-rmse:0.274411\tvalid-rmse:0.377876\n",
      "[2050]\ttrain-rmse:0.273168\tvalid-rmse:0.37782\n",
      "[2100]\ttrain-rmse:0.271877\tvalid-rmse:0.377744\n",
      "[2150]\ttrain-rmse:0.270609\tvalid-rmse:0.377684\n",
      "[2200]\ttrain-rmse:0.269575\tvalid-rmse:0.377676\n",
      "[2250]\ttrain-rmse:0.268477\tvalid-rmse:0.377609\n",
      "[2300]\ttrain-rmse:0.267403\tvalid-rmse:0.377576\n",
      "[2350]\ttrain-rmse:0.266215\tvalid-rmse:0.377532\n",
      "[2400]\ttrain-rmse:0.265026\tvalid-rmse:0.377482\n",
      "[2450]\ttrain-rmse:0.263901\tvalid-rmse:0.377428\n",
      "[2500]\ttrain-rmse:0.262819\tvalid-rmse:0.377392\n",
      "[2550]\ttrain-rmse:0.261754\tvalid-rmse:0.377376\n",
      "[2600]\ttrain-rmse:0.260567\tvalid-rmse:0.377328\n",
      "[2650]\ttrain-rmse:0.259448\tvalid-rmse:0.377295\n",
      "[2700]\ttrain-rmse:0.258353\tvalid-rmse:0.377276\n",
      "[2750]\ttrain-rmse:0.257361\tvalid-rmse:0.377251\n",
      "[2800]\ttrain-rmse:0.256193\tvalid-rmse:0.377221\n",
      "[2850]\ttrain-rmse:0.255163\tvalid-rmse:0.377182\n",
      "[2900]\ttrain-rmse:0.254115\tvalid-rmse:0.377135\n",
      "[2950]\ttrain-rmse:0.253037\tvalid-rmse:0.377114\n",
      "[2999]\ttrain-rmse:0.252048\tvalid-rmse:0.377105\n"
     ]
    }
   ],
   "source": [
    "xgb_pars = {'min_child_weight': 5, 'eta': 0.05,  'max_depth': 10,\n",
    "            'subsample': 0.8, 'booster' : 'gbtree', 'silent': 1,'gamma':0.2,\n",
    "            'eval_metric': 'rmse', 'objective': 'reg:linear','colsample_bytree':0.8}\n",
    "model = xgb.train(xgb_pars, dtrain, 3000, watchlist, early_stopping_rounds=50,\n",
    "                  maximize=False, verbose_eval=50)"
   ]
  }
 ],
 "metadata": {
  "kernelspec": {
   "display_name": "Python [Root]",
   "language": "python",
   "name": "Python [Root]"
  },
  "language_info": {
   "codemirror_mode": {
    "name": "ipython",
    "version": 3
   },
   "file_extension": ".py",
   "mimetype": "text/x-python",
   "name": "python",
   "nbconvert_exporter": "python",
   "pygments_lexer": "ipython3",
   "version": "3.5.2"
  }
 },
 "nbformat": 4,
 "nbformat_minor": 1
}
